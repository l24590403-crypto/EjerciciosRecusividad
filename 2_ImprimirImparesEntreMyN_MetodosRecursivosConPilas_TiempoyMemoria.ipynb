{
  "nbformat": 4,
  "nbformat_minor": 0,
  "metadata": {
    "colab": {
      "provenance": [],
      "include_colab_link": true
    },
    "kernelspec": {
      "name": "python3",
      "display_name": "Python 3"
    },
    "language_info": {
      "name": "python"
    }
  },
  "cells": [
    {
      "cell_type": "markdown",
      "metadata": {
        "id": "view-in-github",
        "colab_type": "text"
      },
      "source": [
        "<a href=\"https://colab.research.google.com/github/l24590403-crypto/EjerciciosRecusividad/blob/main/2_ImprimirImparesEntreMyN_MetodosRecursivosConPilas_TiempoyMemoria.ipynb\" target=\"_parent\"><img src=\"https://colab.research.google.com/assets/colab-badge.svg\" alt=\"Open In Colab\"/></a>"
      ]
    },
    {
      "cell_type": "code",
      "source": [
        "import time\n",
        "import tracemalloc\n",
        "\n",
        "def imprimirImparesEntreMyN(m, n):\n",
        "    if type(m) != int:\n",
        "        raise Exception(\"m debe ser entero.\")\n",
        "    if type(n) != int or n <= m:\n",
        "        raise Exception(\"n debe ser entero mayor que m.\")\n",
        "\n",
        "    m = m + 1 if m % 2 == 0 else m\n",
        "    n = n - 1 if n % 2 == 0 else n\n",
        "\n",
        "    imprimirImparesEntreMyNAux(m, n)\n",
        "\n",
        "def imprimirImparesEntreMyNAux(m, n):\n",
        "    if m > n:\n",
        "        print()\n",
        "    else:\n",
        "        print(m, end=\" \")\n",
        "        imprimirImparesEntreMyNAux(m + 2, n)\n",
        "\n",
        "print(\"--- REALIZANDO CALENTAMIENTO (WARM-UP) ---\")\n",
        "imprimirImparesEntreMyN(0, 4)\n",
        "print(\"------------------------------------------\")\n",
        "\n",
        "print(\"\\n--- PRIMERA EJECUCIÓN MEDIDA (2, 8) ---\")\n",
        "tracemalloc.start()\n",
        "inicio_1 = time.perf_counter_ns()\n",
        "\n",
        "imprimirImparesEntreMyN(2, 8)\n",
        "\n",
        "fin_1 = time.perf_counter_ns()\n",
        "tiempo_1 = fin_1 - inicio_1\n",
        "_, mem_pico_1 = tracemalloc.get_traced_memory()\n",
        "tracemalloc.stop()\n",
        "\n",
        "print(f\"Tiempo de la Primera Ejecución (nanosegundos): {tiempo_1}\")\n",
        "print(f\"Memoria total usada: {mem_pico_1} bytes\")\n",
        "\n",
        "\n",
        "print(\"\\n--- SEGUNDA EJECUCIÓN MEDIDA (2, 20) ---\")\n",
        "tracemalloc.start()\n",
        "inicio_2 = time.perf_counter_ns()\n",
        "\n",
        "imprimirImparesEntreMyN(2, 200)\n",
        "\n",
        "fin_2 = time.perf_counter_ns()\n",
        "tiempo_2 = fin_2 - inicio_2\n",
        "_, mem_pico_2 = tracemalloc.get_traced_memory()\n",
        "tracemalloc.stop()\n",
        "\n",
        "print(f\"Tiempo de la Segunda Ejecución (nanosegundos): {tiempo_2}\")\n",
        "print(f\"Memoria total usada: {mem_pico_2} bytes\")\n"
      ],
      "metadata": {
        "colab": {
          "base_uri": "https://localhost:8080/"
        },
        "id": "LN7L_PotGLxR",
        "outputId": "3c7114de-7166-4afd-baa3-f6863fad3818"
      },
      "execution_count": null,
      "outputs": [
        {
          "output_type": "stream",
          "name": "stdout",
          "text": [
            "--- REALIZANDO CALENTAMIENTO (WARM-UP) ---\n",
            "1 3 \n",
            "------------------------------------------\n",
            "\n",
            "--- PRIMERA EJECUCIÓN MEDIDA (2, 8) ---\n",
            "3 5 7 \n",
            "Tiempo de la Primera Ejecución (nanosegundos): 333434\n",
            "Memoria total usada: 19568 bytes\n",
            "\n",
            "--- SEGUNDA EJECUCIÓN MEDIDA (2, 20) ---\n",
            "3 5 7 9 11 13 15 17 19 21 23 25 27 29 31 33 35 37 39 41 43 45 47 49 51 53 55 57 59 61 63 65 67 69 71 73 75 77 79 81 83 85 87 89 91 93 95 97 99 101 103 105 107 109 111 113 115 117 119 121 123 125 127 129 131 133 135 137 139 141 143 145 147 149 151 153 155 157 159 161 163 165 167 169 171 173 175 177 179 181 183 185 187 189 191 193 195 197 199 \n",
            "Tiempo de la Segunda Ejecución (nanosegundos): 3694395\n",
            "Memoria total usada: 24445 bytes\n"
          ]
        }
      ]
    },
    {
      "cell_type": "code",
      "source": [
        "import time\n",
        "import tracemalloc\n",
        "\n",
        "def imprimirImparesEntreMyN(m, n):\n",
        "    if type(m) != int:\n",
        "        raise Exception(\"m debe ser entero.\")\n",
        "    if type(n) != int or n <= m:\n",
        "        raise Exception(\"n debe ser entero mayor que m.\")\n",
        "\n",
        "    m = m + 1 if m % 2 == 0 else m\n",
        "    n = n - 1 if n % 2 == 0 else n\n",
        "\n",
        "    while m <= n:\n",
        "        print(m, end=\" \")\n",
        "        m += 2\n",
        "    print()\n",
        "\n",
        "\n",
        "print(\"--- REALIZANDO CALENTAMIENTO (WARM-UP) ---\")\n",
        "imprimirImparesEntreMyN(0, 4)\n",
        "print(\"------------------------------------------\")\n",
        "\n",
        "\n",
        "print(\"\\n--- PRIMERA EJECUCIÓN MEDIDA (2, 8) ---\")\n",
        "tracemalloc.start()\n",
        "inicio_1 = time.perf_counter_ns()\n",
        "\n",
        "imprimirImparesEntreMyN(2, 8)\n",
        "\n",
        "fin_1 = time.perf_counter_ns()\n",
        "tiempo_1 = fin_1 - inicio_1\n",
        "_, mem_pico_1 = tracemalloc.get_traced_memory()\n",
        "tracemalloc.stop()\n",
        "\n",
        "print(f\"Tiempo de la Primera Ejecución (nanosegundos): {tiempo_1}\")\n",
        "print(f\"Memoria total usada: {mem_pico_1} bytes\")\n",
        "\n",
        "\n",
        "print(\"\\n--- SEGUNDA EJECUCIÓN MEDIDA (2, 20) ---\")\n",
        "tracemalloc.start()\n",
        "inicio_2 = time.perf_counter_ns()\n",
        "\n",
        "imprimirImparesEntreMyN(2, 200)\n",
        "\n",
        "fin_2 = time.perf_counter_ns()\n",
        "tiempo_2 = fin_2 - inicio_2\n",
        "_, mem_pico_2 = tracemalloc.get_traced_memory()\n",
        "tracemalloc.stop()\n",
        "\n",
        "print(f\"Tiempo de la Segunda Ejecución (nanosegundos): {tiempo_2}\")\n",
        "print(f\"Memoria total usada: {mem_pico_2} bytes\")\n"
      ],
      "metadata": {
        "colab": {
          "base_uri": "https://localhost:8080/"
        },
        "id": "b3MFRRnYL0h_",
        "outputId": "0fd2233c-82a8-49b3-b39d-c54dcacebc16"
      },
      "execution_count": null,
      "outputs": [
        {
          "output_type": "stream",
          "name": "stdout",
          "text": [
            "--- REALIZANDO CALENTAMIENTO (WARM-UP) ---\n",
            "1 3 \n",
            "------------------------------------------\n",
            "\n",
            "--- PRIMERA EJECUCIÓN MEDIDA (2, 8) ---\n",
            "3 5 7 \n",
            "Tiempo de la Primera Ejecución (nanosegundos): 398647\n",
            "Memoria total usada: 19568 bytes\n",
            "\n",
            "--- SEGUNDA EJECUCIÓN MEDIDA (2, 20) ---\n",
            "3 5 7 9 11 13 15 17 19 21 23 25 27 29 31 33 35 37 39 41 43 45 47 49 51 53 55 57 59 61 63 65 67 69 71 73 75 77 79 81 83 85 87 89 91 93 95 97 99 101 103 105 107 109 111 113 115 117 119 121 123 125 127 129 131 133 135 137 139 141 143 145 147 149 151 153 155 157 159 161 163 165 167 169 171 173 175 177 179 181 183 185 187 189 191 193 195 197 199 \n",
            "Tiempo de la Segunda Ejecución (nanosegundos): 4543510\n",
            "Memoria total usada: 21169 bytes\n"
          ]
        }
      ]
    }
  ]
}