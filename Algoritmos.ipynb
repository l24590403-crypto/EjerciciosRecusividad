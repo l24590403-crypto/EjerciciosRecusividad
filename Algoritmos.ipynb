{
  "nbformat": 4,
  "nbformat_minor": 0,
  "metadata": {
    "colab": {
      "provenance": [],
      "authorship_tag": "ABX9TyOuI1OVHxVhfG4RPIc1sDCR",
      "include_colab_link": true
    },
    "kernelspec": {
      "name": "python3",
      "display_name": "Python 3"
    },
    "language_info": {
      "name": "python"
    }
  },
  "cells": [
    {
      "cell_type": "markdown",
      "metadata": {
        "id": "view-in-github",
        "colab_type": "text"
      },
      "source": [
        "<a href=\"https://colab.research.google.com/github/l24590403-crypto/EjerciciosRecusividad/blob/main/Algoritmos.ipynb\" target=\"_parent\"><img src=\"https://colab.research.google.com/assets/colab-badge.svg\" alt=\"Open In Colab\"/></a>"
      ]
    },
    {
      "cell_type": "markdown",
      "source": [
        "Algoritmos con solcucion de recursividad\n",
        "\n",
        "1-(Generar todas las permutaciones posibles de una lista):\n",
        "  -Problematica:\n",
        "  -ordenar una cantidad de libros mediante las el factorial puedes saber cuantas combinaciones para ordenarlos.\n",
        "  Algoritmo:\n",
        "  1-Inicio\n",
        "2-Solicitar la cantidad de libros a ordenar (n).\n",
        "3-Ingresar los libros en una lista (ejemplo: [1, 2, 3, ..., n]).\n",
        "4-Llamar a la función permutaciones(lista, inicio) para generar todas las posibles formas de ordenarlos.\n",
        "4.1-Si inicio es igual a len(lista) - 1, mostrar la lista (una posible ordenación).\n",
        "4.2-Si no, intercambiar el elemento actual con los demás y repetir el proceso de forma recursiva.\n",
        "Mostrar todas las combinaciones posibles de ordenamiento.\n",
        "5-Fin\n",
        "  \n",
        "\n",
        "\n",
        "2-(Calcular la suma de dígitos de un número):\n",
        "\n",
        "-Problemática:\n",
        "  -En los bancos para validar una transaccion con un codigo de seguridad que lo podemos obtener con la suma especifica de numero el cual se comparara con uno obtenido de un registro.\n",
        "  Algoritmo:\n",
        "  1-inicio\n",
        "  2-solicitar al usuario su nip o codigo de verificacion\n",
        "  3- llamar a la clase de suma de digitos para utilizar con el nip o codigo solicitado\n",
        "  4- ahora con el resultado de la suma : vamos a compararlo con un registro obtenido de una base de datos , para verificar la conicidencia de digitos\n",
        "  5- una vez verificado se puede confirmar el proceso de la transaccion.\n",
        "  6- fin\n",
        "\n",
        "3-(Generar todas las permutaciones posibles de una lista):\n",
        "\n",
        "-Problematica:\n",
        "  -Tienes varias materias o reuniones en un día y quieres probar todas las formas posibles de organizarlas para encontrar el horario más eficiente.\n",
        "\n",
        "  Algoritmo:\n",
        "  1-inicio\n",
        "  2-solicitar que ingrese las reuniones o materias a una lista\n",
        "  3- llamar a la funcion  para generar las combinaciones o en este caso los ordenamientos\n",
        "  4-entregar los resultados de los diferentes ordenes para que el usuario haga su eleccion\n",
        "  5 - fin\n",
        "  \n"
      ],
      "metadata": {
        "id": "RppcjUbcw4RN"
      }
    },
    {
      "cell_type": "code",
      "execution_count": null,
      "metadata": {
        "id": "_BMN_6oSqrqC"
      },
      "outputs": [],
      "source": []
    }
  ]
}