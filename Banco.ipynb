{
  "nbformat": 4,
  "nbformat_minor": 0,
  "metadata": {
    "colab": {
      "provenance": [],
      "authorship_tag": "ABX9TyOdb4K8xdzzo07zh9pUhzrm",
      "include_colab_link": true
    },
    "kernelspec": {
      "name": "python3",
      "display_name": "Python 3"
    },
    "language_info": {
      "name": "python"
    }
  },
  "cells": [
    {
      "cell_type": "markdown",
      "metadata": {
        "id": "view-in-github",
        "colab_type": "text"
      },
      "source": [
        "<a href=\"https://colab.research.google.com/github/l24590403-crypto/EjerciciosRecusividad/blob/main/Banco.ipynb\" target=\"_parent\"><img src=\"https://colab.research.google.com/assets/colab-badge.svg\" alt=\"Open In Colab\"/></a>"
      ]
    },
    {
      "cell_type": "code",
      "execution_count": null,
      "metadata": {
        "id": "sXtmQ9Dg7NqN"
      },
      "outputs": [],
      "source": [
        "#Victor Hugo Perusquia Cruz\n",
        "#Ejercicio de la unidad 2 :Banco\n",
        "#estructura de datos\n",
        "\n",
        "def simular_atencion_banco():\n",
        "    fila_bidimensional = [\n",
        "        [\"Carlos\", 3], [\"Ana\", 2], [\"Beatriz\", 1], [\"David\", 2],\n",
        "        [\"Elena\", 3], [\"Eder\", 3], [\"Juan\", 2], [\"Efren\", 1],\n",
        "        [\"Pablo\", 3], [\"Hugo\", 3]\n",
        "    ]\n",
        "\n",
        "    print(\"--- Fila Inicial ---\")\n",
        "    print(fila_bidimensional)\n",
        "    print(\"\\n--- Fila Atención  ---\")\n",
        "\n",
        "    # --- PROCESAMIENTO DE LA FILA DE ATENCIÓN ---\n",
        "    #Reglas\n",
        "    if not fila_bidimensional:\n",
        "        print(\"\\nNo hay clientes para atender.\")\n",
        "        return\n",
        "\n",
        "    fila_atencion = []\n",
        "\n",
        "\n",
        "    primer_cliente = fila_bidimensional[0]\n",
        "    fila_atencion.append(primer_cliente)\n",
        "\n",
        "    for i in range(1, len(fila_bidimensional)):\n",
        "        cliente_actual = fila_bidimensional[i]\n",
        "        nombre_actual, prioridad_actual = cliente_actual\n",
        "\n",
        "        if prioridad_actual == 1:\n",
        "            max_saltos = 3\n",
        "        elif prioridad_actual == 2:\n",
        "            max_saltos = 2\n",
        "        else:\n",
        "            max_saltos = 0\n",
        "\n",
        "        saltos_realizados = 0\n",
        "        posicion_insercion = len(fila_atencion)\n",
        "\n",
        "        for j in range(len(fila_atencion) - 1, -1, -1):\n",
        "            cliente_en_fila = fila_atencion[j]\n",
        "            prioridad_en_fila = cliente_en_fila[1]\n",
        "\n",
        "            if prioridad_actual < prioridad_en_fila and saltos_realizados < max_saltos:\n",
        "                saltos_realizados += 1\n",
        "                posicion_insercion = j\n",
        "            else:\n",
        "                posicion_insercion = j + 1\n",
        "                break\n",
        "\n",
        "\n",
        "        if posicion_insercion == 0:\n",
        "            posicion_insercion = 1\n",
        "\n",
        "        fila_atencion.insert(posicion_insercion, cliente_actual)\n",
        "\n",
        "\n",
        "    fila_atencion_unidimensional = [f\"{cliente[0]} (Prioridad {cliente[1]})\" for cliente in fila_atencion]\n",
        "\n",
        "    # --- MOSTRAR RESULTADOS --\n",
        "\n",
        "\n",
        "\n",
        "\n",
        "    print(\"\\n Fila de atencion\")\n",
        "\n",
        "    for i, cliente_str in enumerate(fila_atencion_unidimensional):\n",
        "        print(f\"{i + 1}. {cliente_str}\")\n",
        "\n",
        "\n",
        "simular_atencion_banco()\n"
      ]
    }
  ]
}