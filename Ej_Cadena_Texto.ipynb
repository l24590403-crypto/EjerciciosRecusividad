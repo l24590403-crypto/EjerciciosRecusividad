{
  "nbformat": 4,
  "nbformat_minor": 0,
  "metadata": {
    "colab": {
      "provenance": [],
      "authorship_tag": "ABX9TyOnm5MYUaCIAoLBSVaUW2oo",
      "include_colab_link": true
    },
    "kernelspec": {
      "name": "python3",
      "display_name": "Python 3"
    },
    "language_info": {
      "name": "python"
    }
  },
  "cells": [
    {
      "cell_type": "markdown",
      "metadata": {
        "id": "view-in-github",
        "colab_type": "text"
      },
      "source": [
        "<a href=\"https://colab.research.google.com/github/l24590403-crypto/EjerciciosRecusividad/blob/main/Ej_Cadena_Texto.ipynb\" target=\"_parent\"><img src=\"https://colab.research.google.com/assets/colab-badge.svg\" alt=\"Open In Colab\"/></a>"
      ]
    },
    {
      "cell_type": "code",
      "execution_count": 2,
      "metadata": {
        "colab": {
          "base_uri": "https://localhost:8080/"
        },
        "id": "qf7TgM_q-xqc",
        "outputId": "9fae1619-94bf-46bc-bac8-583a1d513082"
      },
      "outputs": [
        {
          "output_type": "stream",
          "name": "stdout",
          "text": [
            "Por favor, introduce una cadena de texto: holii\n",
            "\n",
            "Contenido de la Pila de Consonantes:\n",
            "l h \n",
            "Contenido de la Pila de Vocales:\n",
            "i i o "
          ]
        }
      ],
      "source": [
        "class Pila:\n",
        "    def __init__(self):\n",
        "        self.items = []\n",
        "\n",
        "    def push(self, dato):\n",
        "        self.items.append(dato)\n",
        "\n",
        "    def pop(self):\n",
        "        return self.items.pop() if not self.is_empty() else None\n",
        "\n",
        "    def peek(self):\n",
        "        return self.items[-1] if not self.is_empty() else None\n",
        "\n",
        "    def is_empty(self):\n",
        "        return len(self.items) == 0\n",
        "\n",
        "def clasificar_caracter(cadena, pila_a, pila_b, indice=0):\n",
        "\n",
        "    if indice >= len(cadena):\n",
        "        return\n",
        "\n",
        "    caracter = cadena[indice].lower()\n",
        "    vocales = 'aeiou'\n",
        "\n",
        "    if caracter.isalpha():\n",
        "        if caracter in vocales:\n",
        "            pila_b.push(caracter)\n",
        "        else:\n",
        "            pila_a.push(caracter)\n",
        "\n",
        "\n",
        "    clasificar_caracter(cadena, pila_a, pila_b, indice + 1)\n",
        "\n",
        "pila_consonantes = Pila()\n",
        "pila_vocales = Pila()\n",
        "\n",
        "cadena_texto = input(\"Por favor, introduce una cadena de texto: \")\n",
        "\n",
        "\n",
        "clasificar_caracter(cadena_texto, pila_consonantes, pila_vocales)\n",
        "\n",
        "print(\"\\nContenido de la Pila de Consonantes:\")\n",
        "while not pila_consonantes.is_empty():\n",
        "    print(pila_consonantes.pop(), end=\" \")\n",
        "\n",
        "print(\"\\nContenido de la Pila de Vocales:\")\n",
        "while not pila_vocales.is_empty():\n",
        "    print(pila_vocales.pop(), end=\" \")"
      ]
    }
  ]
}