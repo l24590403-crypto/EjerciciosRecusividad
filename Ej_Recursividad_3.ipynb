{
  "nbformat": 4,
  "nbformat_minor": 0,
  "metadata": {
    "colab": {
      "provenance": [],
      "authorship_tag": "ABX9TyOO2cHzzipkQvQRnp+jAKV5",
      "include_colab_link": true
    },
    "kernelspec": {
      "name": "python3",
      "display_name": "Python 3"
    },
    "language_info": {
      "name": "python"
    }
  },
  "cells": [
    {
      "cell_type": "markdown",
      "metadata": {
        "id": "view-in-github",
        "colab_type": "text"
      },
      "source": [
        "<a href=\"https://colab.research.google.com/github/l24590403-crypto/EjerciciosRecusividad/blob/main/Ej_Recursividad_3.ipynb\" target=\"_parent\"><img src=\"https://colab.research.google.com/assets/colab-badge.svg\" alt=\"Open In Colab\"/></a>"
      ]
    },
    {
      "cell_type": "code",
      "execution_count": null,
      "metadata": {
        "id": "oT9oe3xgGMy3"
      },
      "outputs": [],
      "source": [
        "def es_palindromo(s: str) -> bool:\n",
        " \"\"\"\n",
        " Verifica recursivamente si s es palíndromo (exacto; sensible\n",
        "  a espacios y mayúsculas).\n",
        " \"\"\"\n",
        " if len(s) <= 1:\n",
        "  return True\n",
        " if s[0] != s[-1]:\n",
        "  return False\n",
        "return es_palindromo(s[1:-1])\n",
        "\n",
        "def es_palindromo_normalizado(s: str) -> bool:\n",
        " t = \"\".join(ch.lower() for ch in s if not ch.isspace())\n",
        " return es_palindromo(t)\n",
        "# Pruebas\n",
        "assert es_palindromo(\"reconocer\") is True\n",
        "assert es_palindromo(\"python\") is False\n",
        "assert es_palindromo(\"\") is True\n",
        "assert es_palindromo(\"a\") is True\n",
        "assert es_palindromo_normalizado(\"Anita lava la tina\") is True"
      ]
    }
  ]
}