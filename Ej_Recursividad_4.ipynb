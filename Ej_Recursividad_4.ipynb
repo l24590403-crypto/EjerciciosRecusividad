{
  "nbformat": 4,
  "nbformat_minor": 0,
  "metadata": {
    "colab": {
      "provenance": [],
      "authorship_tag": "ABX9TyNJb8JTtn9+m4OM7cNq8pGk",
      "include_colab_link": true
    },
    "kernelspec": {
      "name": "python3",
      "display_name": "Python 3"
    },
    "language_info": {
      "name": "python"
    }
  },
  "cells": [
    {
      "cell_type": "markdown",
      "metadata": {
        "id": "view-in-github",
        "colab_type": "text"
      },
      "source": [
        "<a href=\"https://colab.research.google.com/github/l24590403-crypto/EjerciciosRecusividad/blob/main/Ej_Recursividad_4.ipynb\" target=\"_parent\"><img src=\"https://colab.research.google.com/assets/colab-badge.svg\" alt=\"Open In Colab\"/></a>"
      ]
    },
    {
      "cell_type": "code",
      "execution_count": null,
      "metadata": {
        "id": "1yBv5naTHCs9"
      },
      "outputs": [],
      "source": [
        "from typing import List#librerias pero no se utilizan xd\n",
        "def maximo(lst: List[int]) -> int:\n",
        " \"\"\"\n",
        " Devuelve el máximo de una lista no vacía recursivamente.\n",
        " Precondición: len(lst) >= 1\n",
        " \"\"\"\n",
        " if not lst:\n",
        "  raise ValueError(\"maximo: la lista no debe estar vacía\")\n",
        " if len(lst) == 1:\n",
        "  return lst[0]\n",
        " max_resto = maximo(lst[1:])\n",
        " return lst[0] if lst[0] >= max_resto else max_resto\n",
        "# Pruebas\n",
        "assert maximo([3]) == 3\n",
        "assert maximo([3, 10, -2, 7]) == 10\n",
        "assert maximo([-5, -1, -9]) == -1"
      ]
    }
  ]
}