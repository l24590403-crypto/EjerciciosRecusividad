{
  "nbformat": 4,
  "nbformat_minor": 0,
  "metadata": {
    "colab": {
      "provenance": [],
      "authorship_tag": "ABX9TyMMmCYVDmlyheFZUkCjS62y",
      "include_colab_link": true
    },
    "kernelspec": {
      "name": "python3",
      "display_name": "Python 3"
    },
    "language_info": {
      "name": "python"
    }
  },
  "cells": [
    {
      "cell_type": "markdown",
      "metadata": {
        "id": "view-in-github",
        "colab_type": "text"
      },
      "source": [
        "<a href=\"https://colab.research.google.com/github/l24590403-crypto/EjerciciosRecusividad/blob/main/Ej_Recursividad_5.ipynb\" target=\"_parent\"><img src=\"https://colab.research.google.com/assets/colab-badge.svg\" alt=\"Open In Colab\"/></a>"
      ]
    },
    {
      "cell_type": "code",
      "execution_count": 4,
      "metadata": {
        "id": "qQqf_jFYHa1M"
      },
      "outputs": [],
      "source": [
        "from typing import List, Union#librerias pero no se utilizan xd\n",
        "Anidado = List[Union[int, \"Anidado\"]]\n",
        "def aplanar(x: Anidado) -> List[int]:\n",
        " \"\"\"\n",
        " Aplana una lista potencialmente anidada de enteros,\n",
        " preservando el orden.\n",
        " Ejemplo: [1, [2, [3,4], 5], [], 6] -> [1,2,3,4,5,6]\n",
        " \"\"\"\n",
        " if not x:\n",
        "  return []\n",
        " cabeza, resto = x[0], x[1:]\n",
        " if isinstance(cabeza, int):\n",
        "  return [cabeza] + aplanar(resto)\n",
        " return aplanar(cabeza) + aplanar(resto)\n",
        "# Pruebas\n",
        "assert aplanar([]) == []\n",
        "assert aplanar([1,2,3]) == [1,2,3]\n",
        "assert aplanar([1,[2,[3,4],5],[],6]) == [1,2,3,4,5,6]"
      ]
    }
  ]
}