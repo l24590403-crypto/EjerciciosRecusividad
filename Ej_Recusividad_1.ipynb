{
  "nbformat": 4,
  "nbformat_minor": 0,
  "metadata": {
    "colab": {
      "provenance": [],
      "authorship_tag": "ABX9TyPm/PovngHse0//VZpWoa1y",
      "include_colab_link": true
    },
    "kernelspec": {
      "name": "python3",
      "display_name": "Python 3"
    },
    "language_info": {
      "name": "python"
    }
  },
  "cells": [
    {
      "cell_type": "markdown",
      "metadata": {
        "id": "view-in-github",
        "colab_type": "text"
      },
      "source": [
        "<a href=\"https://colab.research.google.com/github/l24590403-crypto/EjerciciosRecusividad/blob/main/Ej_Recusividad_1.ipynb\" target=\"_parent\"><img src=\"https://colab.research.google.com/assets/colab-badge.svg\" alt=\"Open In Colab\"/></a>"
      ]
    },
    {
      "cell_type": "code",
      "execution_count": null,
      "metadata": {
        "id": "vRaQ0Qya_Hlp"
      },
      "outputs": [],
      "source": [
        "from typing import List, Union, Dict#librerias pero no se utilizan xd\n",
        "def factorial(n: int) -> int:\n",
        "  \"\"\"\n",
        "  Calcula n! recursivamente.\n",
        "  Precondición: n >= 0\n",
        "  \"\"\"\n",
        "  if n < 0:\n",
        "    raise ValueError(\"factorial: n debe ser >= 0\")\n",
        "  if n == 0 or n == 1:\n",
        "    return 1\n",
        "  return n * factorial(n - 1)\n",
        "# Pruebas\n",
        "assert factorial(0) == 1\n",
        "assert factorial(1) == 1\n",
        "assert factorial(5) == 120"
      ]
    }
  ]
}