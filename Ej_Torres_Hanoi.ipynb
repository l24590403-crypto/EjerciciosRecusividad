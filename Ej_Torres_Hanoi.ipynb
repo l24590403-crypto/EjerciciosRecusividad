{
  "nbformat": 4,
  "nbformat_minor": 0,
  "metadata": {
    "colab": {
      "provenance": [],
      "authorship_tag": "ABX9TyOQDUAXz34uaJprFFQXhZ+G",
      "include_colab_link": true
    },
    "kernelspec": {
      "name": "python3",
      "display_name": "Python 3"
    },
    "language_info": {
      "name": "python"
    }
  },
  "cells": [
    {
      "cell_type": "markdown",
      "metadata": {
        "id": "view-in-github",
        "colab_type": "text"
      },
      "source": [
        "<a href=\"https://colab.research.google.com/github/l24590403-crypto/EjerciciosRecusividad/blob/main/Ej_Torres_Hanoi.ipynb\" target=\"_parent\"><img src=\"https://colab.research.google.com/assets/colab-badge.svg\" alt=\"Open In Colab\"/></a>"
      ]
    },
    {
      "cell_type": "code",
      "execution_count": 2,
      "metadata": {
        "colab": {
          "base_uri": "https://localhost:8080/"
        },
        "id": "bhnOPhA65zNk",
        "outputId": "b04b3fdc-9564-4387-e7ed-8423e8a590f4"
      },
      "outputs": [
        {
          "output_type": "stream",
          "name": "stdout",
          "text": [
            "Ingrese el número de discos para las Torres de Hanoi: 1\n",
            "\n",
            "Estado inicial:\n",
            "Pila A: [1]\n",
            "Pila B: []\n",
            "Pila C: []\n",
            "Mover el disco 1 de A a B\n",
            "Estado final:\n",
            "Pila A: []\n",
            "Pila B: [1]\n",
            "Pila C: []\n"
          ]
        }
      ],
      "source": [
        "class Pila:\n",
        "    def __init__(self):\n",
        "        self.items = []\n",
        "\n",
        "    def push(self, dato):\n",
        "        self.items.append(dato)\n",
        "\n",
        "    def pop(self):\n",
        "        return self.items.pop() if not self.is_empty() else None\n",
        "\n",
        "    def peek(self):\n",
        "        return self.items[-1] if not self.is_empty() else None\n",
        "\n",
        "    def is_empty(self):\n",
        "        return len(self.items) == 0\n",
        "\n",
        "def hanoi(n, origen, destino, auxiliar):\n",
        "    if n == 1:\n",
        "        disco = origen.pop()\n",
        "        destino.push(disco)\n",
        "        print(f\"Mover el disco {disco} de {origen.nombre} a {destino.nombre}\")\n",
        "        return\n",
        "\n",
        "    hanoi(n - 1, origen, auxiliar, destino)\n",
        "    disco = origen.pop()\n",
        "    destino.push(disco)\n",
        "    print(f\"Mover el disco {disco} de {origen.nombre} a {destino.nombre}\")\n",
        "    hanoi(n - 1, auxiliar, destino, origen)\n",
        "\n",
        "class PilaConNombre(Pila):\n",
        "    def __init__(self, nombre):\n",
        "        super().__init__()\n",
        "        self.nombre = nombre\n",
        "\n",
        "try:\n",
        "    num_discos = int(input(\"Ingrese el número de discos para las Torres de Hanoi: \"))\n",
        "    if num_discos <= 0:\n",
        "        print(\"El número de discos debe ser un entero positivo.\")\n",
        "    else:\n",
        "        pila_a = PilaConNombre(\"A\")\n",
        "        pila_b = PilaConNombre(\"B\")\n",
        "        pila_c = PilaConNombre(\"C\")\n",
        "\n",
        "        for i in range(num_discos, 0, -1):\n",
        "            pila_a.push(i)\n",
        "\n",
        "        print(\"\\nEstado inicial:\")\n",
        "        print(f\"Pila A: {pila_a.items}\")\n",
        "        print(f\"Pila B: {pila_b.items}\")\n",
        "        print(f\"Pila C: {pila_c.items}\")\n",
        "\n",
        "\n",
        "        hanoi(num_discos, pila_a, pila_b, pila_c)\n",
        "\n",
        "        print(\"Estado final:\")\n",
        "        print(f\"Pila A: {pila_a.items}\")\n",
        "        print(f\"Pila B: {pila_b.items}\")\n",
        "        print(f\"Pila C: {pila_c.items}\")\n",
        "\n",
        "except ValueError:\n",
        "    print(\"Entrada inválida. Por favor, ingrese un número entero.\")"
      ]
    }
  ]
}