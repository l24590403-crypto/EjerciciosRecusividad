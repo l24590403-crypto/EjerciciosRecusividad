{
  "nbformat": 4,
  "nbformat_minor": 0,
  "metadata": {
    "colab": {
      "provenance": [],
      "authorship_tag": "ABX9TyNB8wCJZHXdZL65xHPKuvb9",
      "include_colab_link": true
    },
    "kernelspec": {
      "name": "python3",
      "display_name": "Python 3"
    },
    "language_info": {
      "name": "python"
    }
  },
  "cells": [
    {
      "cell_type": "markdown",
      "metadata": {
        "id": "view-in-github",
        "colab_type": "text"
      },
      "source": [
        "<a href=\"https://colab.research.google.com/github/l24590403-crypto/EjerciciosRecusividad/blob/main/EjemploRecursividad.ipynb\" target=\"_parent\"><img src=\"https://colab.research.google.com/assets/colab-badge.svg\" alt=\"Open In Colab\"/></a>"
      ]
    },
    {
      "cell_type": "code",
      "execution_count": null,
      "metadata": {
        "id": "IJaaOfPt21DU"
      },
      "outputs": [],
      "source": [
        "def factorial(n):\n",
        "    if n == 0:\n",
        "        return 1\n",
        "    else:\n",
        "        print(n*(n-1))\n",
        "        return n*factorial(n-1)\n",
        "\n",
        "\n"
      ]
    },
    {
      "cell_type": "code",
      "source": [
        "factorial(5)\n"
      ],
      "metadata": {
        "id": "__d5zDVU4_S9",
        "colab": {
          "base_uri": "https://localhost:8080/"
        },
        "outputId": "584d0847-0c8d-4390-f9b5-15ce4014be66"
      },
      "execution_count": null,
      "outputs": [
        {
          "output_type": "stream",
          "name": "stdout",
          "text": [
            "20\n",
            "12\n",
            "6\n",
            "2\n",
            "0\n"
          ]
        },
        {
          "output_type": "execute_result",
          "data": {
            "text/plain": [
              "120"
            ]
          },
          "metadata": {},
          "execution_count": 43
        }
      ]
    },
    {
      "cell_type": "code",
      "source": [
        "def factorial_paso_a_paso(n, resultado_acumulado=1, iteracion=0):\n",
        "    if n == 0:\n",
        "        if iteracion == 0 or n == 0:\n",
        "            if n==0 and resultado_acumulado==1:\n",
        "                print(resultado_acumulado)\n",
        "            elif n==0 and resultado_acumulado > 1:\n",
        "                pass\n",
        "        return resultado_acumulado\n",
        "    else:\n",
        "\n",
        "        if iteracion == 0:\n",
        "            siguiente_numero = n - 1\n",
        "\n",
        "            if siguiente_numero == 0:\n",
        "                print(f\"{n} * 1 = {n}\")\n",
        "                nuevo_resultado = n\n",
        "            else:\n",
        "                nuevo_resultado = n * siguiente_numero\n",
        "                print(f\"{n} * {siguiente_numero} = {nuevo_resultado}\")\n",
        "\n",
        "            return factorial_paso_a_paso(n - 1, nuevo_resultado, iteracion + 1)\n",
        "\n",
        "        else:\n",
        "            nuevo_resultado = resultado_acumulado * n\n",
        "            print(f\"{resultado_acumulado} * {n} = {nuevo_resultado}\")\n",
        "\n",
        "            return factorial_paso_a_paso(n - 1, nuevo_resultado, iteracion + 1)\n",
        "\n",
        "print(\"Factorial de 5:\")\n",
        "factorial_paso_a_paso(5)\n"
      ],
      "metadata": {
        "colab": {
          "base_uri": "https://localhost:8080/"
        },
        "id": "ENEngBTu-G0Y",
        "outputId": "1bdc1b44-7b60-46e9-f3ba-b6d73b50905b"
      },
      "execution_count": null,
      "outputs": [
        {
          "output_type": "stream",
          "name": "stdout",
          "text": [
            "Factorial de 5:\n",
            "5 * 4 = 20\n",
            "20 * 4 = 80\n",
            "80 * 3 = 240\n",
            "240 * 2 = 480\n",
            "480 * 1 = 480\n"
          ]
        },
        {
          "output_type": "execute_result",
          "data": {
            "text/plain": [
              "480"
            ]
          },
          "metadata": {},
          "execution_count": 51
        }
      ]
    }
  ]
}