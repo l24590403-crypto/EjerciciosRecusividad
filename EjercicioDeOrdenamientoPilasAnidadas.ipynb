{
  "nbformat": 4,
  "nbformat_minor": 0,
  "metadata": {
    "colab": {
      "provenance": [],
      "authorship_tag": "ABX9TyMNdh48hzZnqDsymwjrO86+",
      "include_colab_link": true
    },
    "kernelspec": {
      "name": "python3",
      "display_name": "Python 3"
    },
    "language_info": {
      "name": "python"
    }
  },
  "cells": [
    {
      "cell_type": "markdown",
      "metadata": {
        "id": "view-in-github",
        "colab_type": "text"
      },
      "source": [
        "<a href=\"https://colab.research.google.com/github/l24590403-crypto/EjerciciosRecusividad/blob/main/EjercicioDeOrdenamientoPilasAnidadas.ipynb\" target=\"_parent\"><img src=\"https://colab.research.google.com/assets/colab-badge.svg\" alt=\"Open In Colab\"/></a>"
      ]
    },
    {
      "cell_type": "markdown",
      "source": [],
      "metadata": {
        "id": "6V8d7F1jMhz7"
      }
    },
    {
      "cell_type": "code",
      "execution_count": null,
      "metadata": {
        "colab": {
          "base_uri": "https://localhost:8080/"
        },
        "id": "xZo5kPYoMbtj",
        "outputId": "345356a8-cf8b-4b07-c73e-4bbb9c21c775"
      },
      "outputs": [
        {
          "output_type": "stream",
          "name": "stdout",
          "text": [
            "Por favor, ingresa una cadena de texto (ejemplo: 'A1B2c3d4E'): 13 de tacos\n",
            "--- Procesando la cadena: '13 de tacos' ---\n",
            "\n",
            "--- Resultado de las Pilas ---\n",
            "Pila de Números Pares:\n",
            "[Pila vacía]\n",
            "\n",
            "Pila de Números Impares:\n",
            "Cima -> [3, 1] <- Base\n",
            "\n",
            "Pila de Letras:\n",
            "Cima -> ['s', 'o', 'c', 'a', 't', 'e', 'd'] <- Base\n"
          ]
        }
      ],
      "source": [
        "class Pila:\n",
        "    \"\"\"Implementación básica de una estructura de datos de Pila (Stack) utilizando una lista.\"\"\"\n",
        "    def __init__(self):\n",
        "        # Lista para almacenar los elementos de la pila.\n",
        "        self.items = []\n",
        "\n",
        "    def push(self, dato):\n",
        "        \"\"\"Agrega un elemento (dato) a la cima de la pila.\"\"\"\n",
        "        self.items.append(dato)\n",
        "\n",
        "    def pop(self,):\n",
        "        \"\"\"\n",
        "        Remueve y retorna el elemento de la cima de la pila.\n",
        "        Retorna None si la pila está vacía.\n",
        "        \"\"\"\n",
        "        # Utiliza el método pop() de la lista de Python.\n",
        "        return self.items.pop() if not self.is_empty() else None\n",
        "\n",
        "    def peek(self):\n",
        "        \"\"\"\n",
        "        Retorna (sin remover) el elemento de la cima de la pila.\n",
        "        Retorna None si la pila está vacía.\n",
        "        \"\"\"\n",
        "        # Retorna el último elemento de la lista (cima de la pila).\n",
        "        return self.items[-1] if not self.is_empty() else None\n",
        "\n",
        "    def is_empty(self):\n",
        "        \"\"\"Verifica si la pila está vacía.\"\"\"\n",
        "        # La pila está vacía si la lista no tiene elementos.\n",
        "        return len(self.items) == 0\n",
        "\n",
        "    def mostrar_pila(self):\n",
        "        \"\"\"\n",
        "        Muestra el contenido actual de la pila desde la cima hasta la base.\n",
        "        Nota: Para 'mostrar', se itera sobre la lista interna sin modificar la pila.\n",
        "        \"\"\"\n",
        "        if self.is_empty():\n",
        "            print(\"[Pila vacía]\")\n",
        "            return\n",
        "\n",
        "        # Muestra la pila desde la cima (último elemento) hasta la base (primer elemento)\n",
        "        # Esto refleja cómo se conceptualiza una pila (el último en entrar es el primero en salir).\n",
        "        print(\"Cima ->\", self.items[::-1], \"<- Base\")\n",
        "\n",
        "\n",
        "def clasificar_cadena(cadena):\n",
        "    \"\"\"\n",
        "    Clasifica los caracteres de una cadena en tres pilas: pares, impares y letras.\n",
        "    \"\"\"\n",
        "    pila_pares = Pila()\n",
        "    pila_impares = Pila()\n",
        "    pila_letras = Pila()\n",
        "\n",
        "    print(f\"--- Procesando la cadena: '{cadena}' ---\")\n",
        "\n",
        "    for caracter in cadena:\n",
        "        # 1. Comprobar si es un dígito\n",
        "        if caracter.isdigit():\n",
        "            # Convertir a entero para la verificación de par/impar\n",
        "            numero = int(caracter)\n",
        "\n",
        "            # 1.1. Clasificar como par o impar\n",
        "            if numero % 2 == 0:\n",
        "                pila_pares.push(numero)\n",
        "\n",
        "            else:\n",
        "                pila_impares.push(numero)\n",
        "\n",
        "\n",
        "        # 2. Comprobar si es una letra (alfabético)\n",
        "        elif caracter.isalpha():\n",
        "            pila_letras.push(caracter)\n",
        "\n",
        "\n",
        "\n",
        "    print(\"\\n--- Resultado de las Pilas ---\")\n",
        "\n",
        "    print(\"Pila de Números Pares:\")\n",
        "    pila_pares.mostrar_pila()\n",
        "\n",
        "    print(\"\\nPila de Números Impares:\")\n",
        "    pila_impares.mostrar_pila()\n",
        "\n",
        "    print(\"\\nPila de Letras:\")\n",
        "    pila_letras.mostrar_pila()\n",
        "\n",
        "\n",
        "# --- PROGRAMA PRINCIPAL ---\n",
        "\n",
        "# Ingreso de la cadena de texto por el usuario\n",
        "cadena_ingresada = input(\"Por favor, ingresa una cadena de texto (ejemplo: 'A1B2c3d4E'): \")\n",
        "\n",
        "# Llamar a la función para clasificar y mostrar el resultado\n",
        "clasificar_cadena(cadena_ingresada)"
      ]
    },
    {
      "cell_type": "code",
      "source": [
        "print(\"El resultado es:\", pow(int(input(\"Ingresa un número: \")), 2))\n"
      ],
      "metadata": {
        "id": "BEa3Rb7tWp6q",
        "outputId": "89407ab3-30a2-4ef7-f054-25593efbeb8a",
        "colab": {
          "base_uri": "https://localhost:8080/"
        }
      },
      "execution_count": null,
      "outputs": [
        {
          "output_type": "stream",
          "name": "stdout",
          "text": [
            "Ingresa un número: 2\n",
            "El resultado es: 4\n"
          ]
        }
      ]
    }
  ]
}