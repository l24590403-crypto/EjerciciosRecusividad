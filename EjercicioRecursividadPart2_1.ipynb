{
  "nbformat": 4,
  "nbformat_minor": 0,
  "metadata": {
    "colab": {
      "provenance": [],
      "authorship_tag": "ABX9TyOeowaT2WiXX97m3U6ZRv36",
      "include_colab_link": true
    },
    "kernelspec": {
      "name": "python3",
      "display_name": "Python 3"
    },
    "language_info": {
      "name": "python"
    }
  },
  "cells": [
    {
      "cell_type": "markdown",
      "metadata": {
        "id": "view-in-github",
        "colab_type": "text"
      },
      "source": [
        "<a href=\"https://colab.research.google.com/github/l24590403-crypto/EjerciciosRecusividad/blob/main/EjercicioRecursividadPart2_1.ipynb\" target=\"_parent\"><img src=\"https://colab.research.google.com/assets/colab-badge.svg\" alt=\"Open In Colab\"/></a>"
      ]
    },
    {
      "cell_type": "code",
      "execution_count": 2,
      "metadata": {
        "colab": {
          "base_uri": "https://localhost:8080/"
        },
        "id": "SoPPiwcevuKv",
        "outputId": "788fedd1-7a27-41d9-f322-b034d52a81b1"
      },
      "outputs": [
        {
          "output_type": "stream",
          "name": "stdout",
          "text": [
            "2 4 \n"
          ]
        }
      ],
      "source": [
        "def imprimirParesHastaN(n):\n",
        "  if type(n) != int or n<1:\n",
        "    raise Exception(\"n debe ser entero positivo.\")\n",
        "\n",
        "  n-=n%2\n",
        "  imprimirParesHastaNAux(n)\n",
        "  print()\n",
        "\n",
        "def imprimirParesHastaNAux(n):\n",
        "  if n ==0:\n",
        "    return\n",
        "  else:\n",
        "    imprimirParesHastaNAux(n-2)\n",
        "    print(n,end = \" \")\n",
        "imprimirParesHastaN(4)\n"
      ]
    }
  ]
}