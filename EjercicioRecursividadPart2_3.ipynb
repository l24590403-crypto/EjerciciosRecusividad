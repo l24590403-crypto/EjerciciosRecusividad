{
  "nbformat": 4,
  "nbformat_minor": 0,
  "metadata": {
    "colab": {
      "provenance": [],
      "authorship_tag": "ABX9TyPtesjtQ80XWIARUEsBmyVf",
      "include_colab_link": true
    },
    "kernelspec": {
      "name": "python3",
      "display_name": "Python 3"
    },
    "language_info": {
      "name": "python"
    }
  },
  "cells": [
    {
      "cell_type": "markdown",
      "metadata": {
        "id": "view-in-github",
        "colab_type": "text"
      },
      "source": [
        "<a href=\"https://colab.research.google.com/github/l24590403-crypto/EjerciciosRecusividad/blob/main/EjercicioRecursividadPart2_3.ipynb\" target=\"_parent\"><img src=\"https://colab.research.google.com/assets/colab-badge.svg\" alt=\"Open In Colab\"/></a>"
      ]
    },
    {
      "cell_type": "code",
      "execution_count": 1,
      "metadata": {
        "colab": {
          "base_uri": "https://localhost:8080/"
        },
        "id": "heZWBRrA7u_v",
        "outputId": "67ecae89-7214-492c-d16c-648ef72a6731"
      },
      "outputs": [
        {
          "output_type": "execute_result",
          "data": {
            "text/plain": [
              "20"
            ]
          },
          "metadata": {},
          "execution_count": 1
        }
      ],
      "source": [
        "def sumarPares(n):\n",
        "  if type(n) != int or n < 3:\n",
        "    raise Exception(\"n debe ser entero mayor que 2.\")\n",
        "  n-=n%2\n",
        "  return sumarParesAux(n)\n",
        "def sumarParesAux(n):\n",
        "  if n == 0:\n",
        "    return 0\n",
        "  else:\n",
        "    return sumarParesAux(n-2)+n\n",
        "\n",
        "sumarPares(8)"
      ]
    }
  ]
}