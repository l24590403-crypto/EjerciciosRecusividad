{
  "nbformat": 4,
  "nbformat_minor": 0,
  "metadata": {
    "colab": {
      "provenance": [],
      "authorship_tag": "ABX9TyNruPkZcUtzrkb/vac3sCwX",
      "include_colab_link": true
    },
    "kernelspec": {
      "name": "python3",
      "display_name": "Python 3"
    },
    "language_info": {
      "name": "python"
    }
  },
  "cells": [
    {
      "cell_type": "markdown",
      "metadata": {
        "id": "view-in-github",
        "colab_type": "text"
      },
      "source": [
        "<a href=\"https://colab.research.google.com/github/l24590403-crypto/EjerciciosRecusividad/blob/main/EjercicioRecursividadPart2_4.ipynb\" target=\"_parent\"><img src=\"https://colab.research.google.com/assets/colab-badge.svg\" alt=\"Open In Colab\"/></a>"
      ]
    },
    {
      "cell_type": "code",
      "execution_count": 4,
      "metadata": {
        "colab": {
          "base_uri": "https://localhost:8080/"
        },
        "id": "itxo1jhz3xJ9",
        "outputId": "987b9a74-46c4-4d6f-e9eb-3524fc2e0536"
      },
      "outputs": [
        {
          "output_type": "execute_result",
          "data": {
            "text/plain": [
              "4"
            ]
          },
          "metadata": {},
          "execution_count": 4
        }
      ],
      "source": [
        "def contarDigitos(n):\n",
        "    if type(n) != int or n < 0:\n",
        "        raise Exception(\"n debe ser entero no negativo.\")\n",
        "    return contarDigitosAux(n)\n",
        "\n",
        "def contarDigitosAux(n):\n",
        "    if n < 10:\n",
        "        return 1\n",
        "    else:\n",
        "        return contarDigitosAux(n // 10) + 1\n",
        "\n",
        "contarDigitos(8907)"
      ]
    }
  ]
}