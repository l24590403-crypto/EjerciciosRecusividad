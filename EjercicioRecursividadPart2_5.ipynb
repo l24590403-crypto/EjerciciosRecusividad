{
  "nbformat": 4,
  "nbformat_minor": 0,
  "metadata": {
    "colab": {
      "provenance": [],
      "authorship_tag": "ABX9TyMVqL7GIUxQApCDzoQNrRiX",
      "include_colab_link": true
    },
    "kernelspec": {
      "name": "python3",
      "display_name": "Python 3"
    },
    "language_info": {
      "name": "python"
    }
  },
  "cells": [
    {
      "cell_type": "markdown",
      "metadata": {
        "id": "view-in-github",
        "colab_type": "text"
      },
      "source": [
        "<a href=\"https://colab.research.google.com/github/l24590403-crypto/EjerciciosRecusividad/blob/main/EjercicioRecursividadPart2_5.ipynb\" target=\"_parent\"><img src=\"https://colab.research.google.com/assets/colab-badge.svg\" alt=\"Open In Colab\"/></a>"
      ]
    },
    {
      "cell_type": "code",
      "execution_count": 1,
      "metadata": {
        "colab": {
          "base_uri": "https://localhost:8080/"
        },
        "id": "n3l2qqpE4o0z",
        "outputId": "afdf7446-8e45-40ef-d206-788c6160dd8e"
      },
      "outputs": [
        {
          "output_type": "execute_result",
          "data": {
            "text/plain": [
              "6"
            ]
          },
          "metadata": {},
          "execution_count": 1
        }
      ],
      "source": [
        "def sumarDigitos(n):\n",
        "    if type(n) != int or n < 0:\n",
        "        raise Exception(\"n debe ser entero no negativo.\")\n",
        "    return sumarDigitosAux(n)\n",
        "\n",
        "def sumarDigitosAux(n):\n",
        "    if n < 10:\n",
        "        return n\n",
        "    else:\n",
        "        return sumarDigitosAux(n // 10) + n % 10\n",
        "sumarDigitos(123)"
      ]
    }
  ]
}