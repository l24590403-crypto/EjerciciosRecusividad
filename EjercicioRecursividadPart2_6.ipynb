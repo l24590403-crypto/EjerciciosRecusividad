{
  "nbformat": 4,
  "nbformat_minor": 0,
  "metadata": {
    "colab": {
      "provenance": [],
      "authorship_tag": "ABX9TyPBZA0R20O14IS97JizJIYp",
      "include_colab_link": true
    },
    "kernelspec": {
      "name": "python3",
      "display_name": "Python 3"
    },
    "language_info": {
      "name": "python"
    }
  },
  "cells": [
    {
      "cell_type": "markdown",
      "metadata": {
        "id": "view-in-github",
        "colab_type": "text"
      },
      "source": [
        "<a href=\"https://colab.research.google.com/github/l24590403-crypto/EjerciciosRecusividad/blob/main/EjercicioRecursividadPart2_6.ipynb\" target=\"_parent\"><img src=\"https://colab.research.google.com/assets/colab-badge.svg\" alt=\"Open In Colab\"/></a>"
      ]
    },
    {
      "cell_type": "code",
      "execution_count": 3,
      "metadata": {
        "colab": {
          "base_uri": "https://localhost:8080/"
        },
        "id": "34K7x3Fc497u",
        "outputId": "39299735-2811-46d8-c814-d2373d849896"
      },
      "outputs": [
        {
          "output_type": "execute_result",
          "data": {
            "text/plain": [
              "32"
            ]
          },
          "metadata": {},
          "execution_count": 3
        }
      ],
      "source": [
        "# Fuyncion requerida\n",
        "def contarDigitos(n):\n",
        "    if type(n) != int or n < 0:\n",
        "        raise Exception(\"n debe ser entero no negativo.\")\n",
        "    return contarDigitosAux(n)\n",
        "\n",
        "def contarDigitosAux(n):\n",
        "    if n < 10:\n",
        "        return 1\n",
        "    else:\n",
        "        return contarDigitosAux(n // 10) + 1\n",
        "\n",
        "# El código del ejercicio 6\n",
        "def invertirEntero(n):\n",
        "    if type(n) != int or n < 1:\n",
        "        raise Exception(\"n debe ser entero positivo.\")\n",
        "    return invertirEnteroAux(n)\n",
        "\n",
        "def invertirEnteroAux(n):\n",
        "    if n < 10:\n",
        "        return n\n",
        "    else:\n",
        "\n",
        "        return (n % 10) * (10 ** (contarDigitos(n // 10))) + invertirEnteroAux(n // 10)\n",
        "invertirEntero(23)"
      ]
    }
  ]
}