{
  "nbformat": 4,
  "nbformat_minor": 0,
  "metadata": {
    "colab": {
      "provenance": [],
      "authorship_tag": "ABX9TyOTzZsvIZ7JpqSRxE5+U68K",
      "include_colab_link": true
    },
    "kernelspec": {
      "name": "python3",
      "display_name": "Python 3"
    },
    "language_info": {
      "name": "python"
    }
  },
  "cells": [
    {
      "cell_type": "markdown",
      "metadata": {
        "id": "view-in-github",
        "colab_type": "text"
      },
      "source": [
        "<a href=\"https://colab.research.google.com/github/l24590403-crypto/EjerciciosRecusividad/blob/main/ejercicioRecursividadPart2_2.ipynb\" target=\"_parent\"><img src=\"https://colab.research.google.com/assets/colab-badge.svg\" alt=\"Open In Colab\"/></a>"
      ]
    },
    {
      "cell_type": "code",
      "execution_count": 2,
      "metadata": {
        "colab": {
          "base_uri": "https://localhost:8080/"
        },
        "id": "0QARYdFb2S0K",
        "outputId": "c8f3bc6e-a56c-4807-bd33-ac3e8655da8f"
      },
      "outputs": [
        {
          "output_type": "stream",
          "name": "stdout",
          "text": [
            "-1 1 3 5 7 \n"
          ]
        }
      ],
      "source": [
        "def imprimirImparesEntreMyN(m, n):\n",
        "    if type(m) != int:\n",
        "        raise Exception(\"m debe ser entero.\")\n",
        "    if type(n) != int or n <= m:\n",
        "        raise Exception(\"n debe ser entero mayor que m.\")\n",
        "    m=m+1 if m%2 == 0 else m\n",
        "    n=n-1 if n%2 == 0 else n\n",
        "    imprimirImparesEntreMyNAux(m, n)\n",
        "\n",
        "def imprimirImparesEntreMyNAux(m, n):\n",
        "    if m > n:\n",
        "        print()\n",
        "    else:\n",
        "        print(m, end=\" \")\n",
        "        imprimirImparesEntreMyNAux(m + 2, n)\n",
        "\n",
        "imprimirImparesEntreMyN(-1, 8)"
      ]
    }
  ]
}